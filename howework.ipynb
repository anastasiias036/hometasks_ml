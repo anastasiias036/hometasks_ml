{
 "cells": [
  {
   "cell_type": "markdown",
   "id": "90ee28c8-bde1-4c0e-bbd0-238fe49a640c",
   "metadata": {},
   "source": [
    "# Вступ\n",
    "\n",
    "**спроба тексту** на *Python*"
   ]
  },
  {
   "cell_type": "code",
   "execution_count": 25,
   "id": "d3ae9e3b-e5e0-408d-842c-4777ecb2aaf3",
   "metadata": {},
   "outputs": [
    {
     "name": "stdout",
     "output_type": "stream",
     "text": [
      "Hello, world!\n"
     ]
    }
   ],
   "source": [
    "print ('Hello, world!')"
   ]
  },
  {
   "cell_type": "code",
   "execution_count": 26,
   "id": "e41cc54f-1c81-4a89-9680-05d70de99029",
   "metadata": {},
   "outputs": [
    {
     "data": {
      "text/plain": [
       "220"
      ]
     },
     "execution_count": 26,
     "metadata": {},
     "output_type": "execute_result"
    }
   ],
   "source": [
    "100+120"
   ]
  },
  {
   "cell_type": "markdown",
   "id": "2b713156-b8fe-47f5-929d-5524bf90e2cc",
   "metadata": {},
   "source": [
    "## Розділ 2"
   ]
  },
  {
   "cell_type": "code",
   "execution_count": 27,
   "id": "89f5682a-6fc7-4564-9346-c47be73e72db",
   "metadata": {},
   "outputs": [
    {
     "name": "stdout",
     "output_type": "stream",
     "text": [
      "2024-04-04 13.31.01.jpg\n",
      "2024-04-20 10.01.14.jpg\n",
      "FAQ _ Vega(1).csv\n",
      "Globe B2B Script 11272024.pdf\n",
      "\u001b[34mHR bot\u001b[m\u001b[m\n",
      "\u001b[34mMicrosoft\u001b[m\u001b[m\n",
      "Screenshot at Aug 23 15-29-06.png\n",
      "Screenshot at Aug 23 15-29-53.png\n",
      "Untitled.ipynb\n",
      "homework.ipynb\n",
      "import telebot.py\n",
      "\u001b[34mpython\u001b[m\u001b[m\n",
      "~$струкція Відповідальний співробітник_v2_20.08.2024.docx\n",
      "\u001b[34mДоки\u001b[m\u001b[m\n",
      "\u001b[34mКопия GMS _ Knowledge Base_all legal entities_11.07.2024.fld\u001b[m\u001b[m\n",
      "Копия GMS _ Knowledge Base_all legal entities_11.07.2024.htm\n"
     ]
    }
   ],
   "source": [
    "!ls"
   ]
  },
  {
   "cell_type": "code",
   "execution_count": null,
   "id": "6ea774c5-9744-4f65-8fa8-82c7e951e64f",
   "metadata": {},
   "outputs": [],
   "source": []
  },
  {
   "cell_type": "code",
   "execution_count": 28,
   "id": "c6274a4a-b6d0-4fa3-b5eb-e6b14c7c7117",
   "metadata": {},
   "outputs": [
    {
     "name": "stdout",
     "output_type": "stream",
     "text": [
      "/Users/anastasiia/Desktop\n"
     ]
    }
   ],
   "source": [
    "!pwd"
   ]
  },
  {
   "cell_type": "code",
   "execution_count": 29,
   "id": "80c4b79c-cde1-49fb-8365-500a01755886",
   "metadata": {},
   "outputs": [],
   "source": [
    "my_list = [1, 2, 3, 4]"
   ]
  },
  {
   "cell_type": "code",
   "execution_count": 30,
   "id": "235712c2-8839-4eb2-8d97-202a46294b69",
   "metadata": {},
   "outputs": [
    {
     "data": {
      "text/plain": [
       "[1, 2, 3, 4]"
      ]
     },
     "execution_count": 30,
     "metadata": {},
     "output_type": "execute_result"
    }
   ],
   "source": [
    "my_list"
   ]
  },
  {
   "cell_type": "code",
   "execution_count": 31,
   "id": "11669469-4423-468e-b0ee-b04a6b1dbd17",
   "metadata": {},
   "outputs": [
    {
     "data": {
      "text/plain": [
       "[100, 81, 64, 49, 36, 25, 16, 9, 4, 1, 0, 1, 4, 9, 16, 25, 36, 49, 64, 81, 100]"
      ]
     },
     "execution_count": 31,
     "metadata": {},
     "output_type": "execute_result"
    }
   ],
   "source": [
    "[x**2 for x in range(-10, 11)]"
   ]
  },
  {
   "cell_type": "code",
   "execution_count": 32,
   "id": "cd9375fd-d0fc-4f33-a2f2-613978420337",
   "metadata": {},
   "outputs": [
    {
     "name": "stdout",
     "output_type": "stream",
     "text": [
      "Requirement already satisfied: matplotlib in /Library/Frameworks/Python.framework/Versions/3.13/lib/python3.13/site-packages (3.9.3)\n",
      "Requirement already satisfied: contourpy>=1.0.1 in /Library/Frameworks/Python.framework/Versions/3.13/lib/python3.13/site-packages (from matplotlib) (1.3.1)\n",
      "Requirement already satisfied: cycler>=0.10 in /Library/Frameworks/Python.framework/Versions/3.13/lib/python3.13/site-packages (from matplotlib) (0.12.1)\n",
      "Requirement already satisfied: fonttools>=4.22.0 in /Library/Frameworks/Python.framework/Versions/3.13/lib/python3.13/site-packages (from matplotlib) (4.55.2)\n",
      "Requirement already satisfied: kiwisolver>=1.3.1 in /Library/Frameworks/Python.framework/Versions/3.13/lib/python3.13/site-packages (from matplotlib) (1.4.7)\n",
      "Requirement already satisfied: numpy>=1.23 in /Library/Frameworks/Python.framework/Versions/3.13/lib/python3.13/site-packages (from matplotlib) (2.1.3)\n",
      "Requirement already satisfied: packaging>=20.0 in /Library/Frameworks/Python.framework/Versions/3.13/lib/python3.13/site-packages (from matplotlib) (24.2)\n",
      "Requirement already satisfied: pillow>=8 in /Library/Frameworks/Python.framework/Versions/3.13/lib/python3.13/site-packages (from matplotlib) (11.0.0)\n",
      "Requirement already satisfied: pyparsing>=2.3.1 in /Library/Frameworks/Python.framework/Versions/3.13/lib/python3.13/site-packages (from matplotlib) (3.2.0)\n",
      "Requirement already satisfied: python-dateutil>=2.7 in /Library/Frameworks/Python.framework/Versions/3.13/lib/python3.13/site-packages (from matplotlib) (2.9.0.post0)\n",
      "Requirement already satisfied: six>=1.5 in /Library/Frameworks/Python.framework/Versions/3.13/lib/python3.13/site-packages (from python-dateutil>=2.7->matplotlib) (1.17.0)\n",
      "Note: you may need to restart the kernel to use updated packages.\n"
     ]
    }
   ],
   "source": [
    "pip install matplotlib"
   ]
  },
  {
   "cell_type": "code",
   "execution_count": 21,
   "id": "b3a64c60-63db-4aff-8895-8a1e6e4e884d",
   "metadata": {},
   "outputs": [],
   "source": [
    "import matplotlib.pyplot as plt"
   ]
  },
  {
   "cell_type": "code",
   "execution_count": 33,
   "id": "46936673-1600-4d25-b586-0577f6236afc",
   "metadata": {},
   "outputs": [
    {
     "data": {
      "text/plain": [
       "[<matplotlib.lines.Line2D at 0x107fa6210>]"
      ]
     },
     "execution_count": 33,
     "metadata": {},
     "output_type": "execute_result"
    },
    {
     "data": {
      "image/png": "[encoded data removed]",
      "text/plain": [
       "<Figure size 640x480 with 1 Axes>"
      ]
     },
     "metadata": {},
     "output_type": "display_data"
    }
   ],
   "source": [
    "plt.plot(range(30))"
   ]
  },
  {
   "cell_type": "code",
   "execution_count": 34,
   "id": "83c4d725-15d6-4f99-a1b8-c62ca8461c7b",
   "metadata": {},
   "outputs": [
    {
     "data": {
      "text/plain": [
       "5"
      ]
     },
     "execution_count": 34,
     "metadata": {},
     "output_type": "execute_result"
    }
   ],
   "source": [
    "a = 10\n",
    "b = -5\n",
    "a+b"
   ]
  },
  {
   "cell_type": "code",
   "execution_count": null,
   "id": "fa6cb9b6-ba67-4c92-952f-3f894a276bd0",
   "metadata": {},
   "outputs": [],
   "source": []
  }
 ],
 "metadata": {
  "kernelspec": {
   "display_name": "Python 3 (ipykernel)",
   "language": "python",
   "name": "python3"
  },
  "language_info": {
   "codemirror_mode": {
    "name": "ipython",
    "version": 3
   },
   "file_extension": ".py",
   "mimetype": "text/x-python",
   "name": "python",
   "nbconvert_exporter": "python",
   "pygments_lexer": "ipython3",
   "version": "3.13.0"
  }
 },
 "nbformat": 4,
 "nbformat_minor": 5
}
