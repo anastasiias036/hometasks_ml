{
  "nbformat": 4,
  "nbformat_minor": 0,
  "metadata": {
    "colab": {
      "provenance": [],
      "include_colab_link": true
    },
    "kernelspec": {
      "name": "python3",
      "display_name": "Python 3"
    },
    "language_info": {
      "name": "python"
    }
  },
  "cells": [
    {
      "cell_type": "markdown",
      "metadata": {
        "id": "view-in-github",
        "colab_type": "text"
      },
      "source": [
        "<a href=\"https://colab.research.google.com/github/anastasiias036/hometasks_ml/blob/main/%D0%9A%D0%BE%D0%BF%D1%96%D1%8F_%D0%B7%D0%B0%D0%BF%D0%B8%D1%81%D0%BD%D0%B8%D0%BA%D0%B0_%22HW_1_1_%D0%9E%D1%81%D0%BD%D0%BE%D0%B2%D0%B8_%D1%81%D1%82%D0%B0%D1%82%D0%B8%D1%81%D1%82%D0%B8%D0%BA%D0%B8_ipynb%22.ipynb\" target=\"_parent\"><img src=\"https://colab.research.google.com/assets/colab-badge.svg\" alt=\"Open In Colab\"/></a>"
      ]
    },
    {
      "cell_type": "markdown",
      "source": [
        "В цьому домашньому завданні відпрацюємо з вами знання, отримані в модулі зі статистики.\n",
        "\n",
        "**Завдання 1.** Ми обговорили з Вами на лекції, що велика літера Сігма грецького алфавіту позначає в математиці суму. Знайдіть з використанням Python $\\Sigma x$, $\\Sigma x^2$, та $\\Sigma (x-1)^2$ для наступного набору даних:\n",
        "`1 3 4`\n",
        "Виведіть результат кожного обчислення на екран."
      ],
      "metadata": {
        "id": "SDhaTqxcWhnP"
      }
    },
    {
      "cell_type": "code",
      "source": [
        "data = [1, 3, 4]\n",
        "\n",
        "res_x = sum(data)\n",
        "res_x2 = sum(x**2 for x in data)\n",
        "res_x3 = sum((x-1)**2 for x in data)\n",
        "\n",
        "print(res_x)\n",
        "print(res_x2)\n",
        "print(res_x3)"
      ],
      "metadata": {
        "id": "B1mgx_IBT0e8",
        "colab": {
          "base_uri": "https://localhost:8080/"
        },
        "outputId": "e3c4972c-58a1-4455-fb22-b0a39c05a11d"
      },
      "execution_count": 2,
      "outputs": [
        {
          "output_type": "stream",
          "name": "stdout",
          "text": [
            "8\n",
            "26\n",
            "13\n"
          ]
        }
      ]
    },
    {
      "cell_type": "markdown",
      "source": [
        "**Завдання 2.** Ми зібрали дані про суму покупок в гривнях 20ма випадково обраними клієнтами в нашому магазині (всього клієнтів у нас більше) за минулий місяць. Вони представлені в змінній `sum_purchases`. Знайдіть **вибіркове середнє** для цих даних кожним з зазначених методів:   \n",
        "\n",
        "  2.1. без використання жодних бібліотек, користуючись тільки Python.  \n",
        "  2.2. використовуючи відповідний метод бібліотеки `numpy`.\n",
        "\n",
        "  Виведіть результат обчислень в кожному з випадків на екран та порівняйте результати. Вони співпадають?"
      ],
      "metadata": {
        "id": "fa78aW5lhiia"
      }
    },
    {
      "cell_type": "code",
      "execution_count": null,
      "metadata": {
        "id": "_9kMt3rq6V5m"
      },
      "outputs": [],
      "source": [
        "sum_purchases = [ 316,  493,  367,  153,  224,  121,  322,  450,  196,  397,  281,\n",
        "  239,  484,  124,  223,  448,  432,  255, 4310, 3524]"
      ]
    },
    {
      "cell_type": "markdown",
      "source": [
        "**2.1**"
      ],
      "metadata": {
        "id": "ZRl07pmUN3ZA"
      }
    },
    {
      "cell_type": "code",
      "source": [
        "sum_purchases = [ 316,  493,  367,  153,  224,  121,  322,  450,  196,  397,  281,\n",
        "  239,  484,  124,  223,  448,  432,  255, 4310, 3524]\n",
        "\n",
        "all_sum = sum(sum_purchases)\n",
        "count = len(sum_purchases)\n",
        "mean = all_sum/count\n",
        "\n",
        "print(mean)"
      ],
      "metadata": {
        "id": "wPmL919HT1c0",
        "colab": {
          "base_uri": "https://localhost:8080/"
        },
        "outputId": "6cf8179b-0c66-4843-f988-862b539eac3b"
      },
      "execution_count": 5,
      "outputs": [
        {
          "output_type": "stream",
          "name": "stdout",
          "text": [
            "667.95\n"
          ]
        }
      ]
    },
    {
      "cell_type": "markdown",
      "source": [
        "**2.2**"
      ],
      "metadata": {
        "id": "a11KaeUDN6OA"
      }
    },
    {
      "cell_type": "code",
      "source": [
        "import numpy as np\n",
        "\n",
        "mean = np.mean(sum_purchases)\n",
        "print(mean)"
      ],
      "metadata": {
        "colab": {
          "base_uri": "https://localhost:8080/"
        },
        "id": "Hm2nzzTYNz95",
        "outputId": "267234e6-dc4f-4902-b6cb-07fe7bd701dc"
      },
      "execution_count": 7,
      "outputs": [
        {
          "output_type": "stream",
          "name": "stdout",
          "text": [
            "667.95\n"
          ]
        }
      ]
    },
    {
      "cell_type": "markdown",
      "source": [
        "**Завдання 3.** Для того ж набору даних в змінній `sum_purchases` обчисліть **медіану** кожним з зазначених методів:  \n",
        "\n",
        "  3.1. без використання жодних бібліотек, користуючись тільки Python.  \n",
        "  3.2. використовуючи відповідний метод бібліотеки numpy.  \n",
        "\n",
        "Виведіть результат обчислень в кожному з випадків на екран. Порівняйте результати зі значенням вибіркового середнього. Напишіть коментар, для яких задач ви б використовували вибіркове середнє, а для яких - медіану?"
      ],
      "metadata": {
        "id": "FMdoxZd0kZdW"
      }
    },
    {
      "cell_type": "markdown",
      "source": [
        "3.1"
      ],
      "metadata": {
        "id": "QbASpc0ARmdH"
      }
    },
    {
      "cell_type": "code",
      "source": [
        "sum_purchases = [ 316,  493,  367,  153,  224,  121,  322,  450,  196,  397,  281,\n",
        "  239,  484,  124,  223,  448,  432,  255, 4310, 3524]\n",
        "\n",
        "sorted_purchases = sorted(sum_purchases)\n",
        "n = len(sum_purchases)\n",
        "\n",
        "if n % 2 == 1:\n",
        "  median_manual = sorted_purchases[n // 2]\n",
        "else:\n",
        "  mid1 = sorted_purchases[n // 2 - 1]\n",
        "  mid2 = sorted_purchases[n // 2]\n",
        "  median_manual = (mid1 + mid2)/2\n",
        "\n",
        "print (median_manual)\n"
      ],
      "metadata": {
        "id": "x58BumvuT2nl",
        "colab": {
          "base_uri": "https://localhost:8080/"
        },
        "outputId": "eb8dbdbc-26b0-49ed-ed33-39622f9e7391"
      },
      "execution_count": 17,
      "outputs": [
        {
          "output_type": "stream",
          "name": "stdout",
          "text": [
            "319.0\n"
          ]
        }
      ]
    },
    {
      "cell_type": "markdown",
      "source": [
        "3.2"
      ],
      "metadata": {
        "id": "-OQVw-tBRoF-"
      }
    },
    {
      "cell_type": "code",
      "source": [
        "import numpy as np\n",
        "\n",
        "sum_purchases = [ 316,  493,  367,  153,  224,  121,  322,  450,  196,  397,  281,\n",
        "  239,  484,  124,  223,  448,  432,  255, 4310, 3524]\n",
        "\n",
        "median_numpy = np.median(sum_purchases)\n",
        "print(median_numpy)\n"
      ],
      "metadata": {
        "colab": {
          "base_uri": "https://localhost:8080/"
        },
        "id": "c5nAQpWkSEB3",
        "outputId": "24e38a10-21d2-44f2-fd87-62e1121668e3"
      },
      "execution_count": 18,
      "outputs": [
        {
          "output_type": "stream",
          "name": "stdout",
          "text": [
            "319.0\n"
          ]
        }
      ]
    },
    {
      "cell_type": "markdown",
      "source": [
        "**Завдання 4**. Обчислість стандартне відхилення наведеної вибірки в змінній `sum_purchases` кожним з зазначених методів:  \n",
        "\n",
        "  4.1. без використання жодних бібліотек, користуючись тільки Python.  \n",
        "  4.2. використовуючи відповідний метод бібліотеки numpy.  \n",
        "\n",
        "Виведіть результат обчислень в кожному з випадків на екран."
      ],
      "metadata": {
        "id": "o1Z7az2yNDQV"
      }
    },
    {
      "cell_type": "markdown",
      "source": [
        "**4.1**"
      ],
      "metadata": {
        "id": "sg673lO6Vhe_"
      }
    },
    {
      "cell_type": "code",
      "source": [
        "sum_purchases = [ 316,  493,  367,  153,  224,  121,  322,  450,  196,  397,  281,\n",
        "  239,  484,  124,  223,  448,  432,  255, 4310, 3524]\n",
        "\n",
        "n = len(sum_purchases)\n",
        "\n",
        "mean = sum(sum_purchases)/2\n",
        "\n",
        "sq_dif = [(x - mean) ** 2 for x in sum_purchases]\n",
        "variance = sum(sq_dif) / n\n",
        "std_dev_manual = variance ** 0.5\n",
        "\n",
        "print(std_dev_manual)"
      ],
      "metadata": {
        "id": "X4ixtmL2T642",
        "colab": {
          "base_uri": "https://localhost:8080/"
        },
        "outputId": "7676efa7-d108-4238-ec9c-904d05fc1268"
      },
      "execution_count": 25,
      "outputs": [
        {
          "output_type": "stream",
          "name": "stdout",
          "text": [
            "6110.654731696105\n"
          ]
        }
      ]
    },
    {
      "cell_type": "markdown",
      "source": [
        "**4.2**"
      ],
      "metadata": {
        "id": "kP1W9vNjWjiK"
      }
    },
    {
      "cell_type": "code",
      "source": [
        "import numpy as np\n",
        "\n",
        "sum_purchases = [ 316,  493,  367,  153,  224,  121,  322,  450,  196,  397,  281,\n",
        "  239,  484,  124,  223,  448,  432,  255, 4310, 3524]\n",
        "\n",
        "std_dev_numpy = np.std(sum_purchases)\n",
        "print(std_dev_manual)"
      ],
      "metadata": {
        "colab": {
          "base_uri": "https://localhost:8080/"
        },
        "id": "wLcxjXgSWkjj",
        "outputId": "1cd3262d-8c2c-4679-ebd6-009739bc5eb5"
      },
      "execution_count": 27,
      "outputs": [
        {
          "output_type": "stream",
          "name": "stdout",
          "text": [
            "6110.654731696105\n"
          ]
        }
      ]
    },
    {
      "cell_type": "markdown",
      "source": [
        "**Завдання 5**. Ми провели дослідження віку студентів-першокурсників. Виявилось, що\n",
        "- 10 студентів мають вік 16 років\n",
        "- 25 студентів - 17 років\n",
        "- 20 студентів - 18 років\n",
        "- 2 студенти - 20 років\n",
        "\n",
        "Обчислість середнє значення для цієї вибірки будь-яким способом - на чистому Python або з numpy - та виведіть результат на екран."
      ],
      "metadata": {
        "id": "M1ntKTjXLVlH"
      }
    },
    {
      "cell_type": "code",
      "source": [
        "import numpy as np\n",
        "\n",
        "ages = np.array([16, 17 , 18, 20])\n",
        "frequencies = np.array([10, 25, 20, 2])\n",
        "\n",
        "mean_age = np.average(ages, weights=frequencies)\n",
        "\n",
        "print(mean_age)"
      ],
      "metadata": {
        "id": "RdIU4M-7T8R4",
        "colab": {
          "base_uri": "https://localhost:8080/"
        },
        "outputId": "48db3e6d-e53e-4d1b-c472-bd7a0622abf6"
      },
      "execution_count": 30,
      "outputs": [
        {
          "output_type": "stream",
          "name": "stdout",
          "text": [
            "17.280701754385966\n"
          ]
        }
      ]
    },
    {
      "cell_type": "markdown",
      "source": [
        "**Завдання 6**. Крім даних про суму покупок, ми зібрали ще дані про кількість відвідувань кожного з кожного покупця, які знаходяться в змінній `visits`. Обчисліть коефіцієнт кореляції Пірсона для суми покупок і кількості відвідувань кожним з зазначених методів:  \n",
        "\n",
        "  6.1. без використання жодних бібліотек, користуючись тільки Python.  \n",
        "  6.2. використовуючи відповідний метод бібліотеки numpy.  \n",
        "  \n",
        "Виведіть результат на екран. Проаналізуйте результат.\n",
        "\n",
        "Виведіть додатково графік розсіювання викликавши код нижче і зробіть заключення, чи варто щось змінити при підрахунку кореляції, аби коефіцієнт Пірсона показував коректну оцінку лінійної залежності?"
      ],
      "metadata": {
        "id": "Xx8MFkkVM53z"
      }
    },
    {
      "cell_type": "markdown",
      "source": [
        "**6.1**"
      ],
      "metadata": {
        "id": "78TkBPCFOgiU"
      }
    },
    {
      "cell_type": "code",
      "source": [
        "visits = [ 6,  2, 10,  3,  9,  9,  2,  3,  6,  6, 10,  2,  5, 10,  3,  5,  4,\n",
        "        7,  4,  2]"
      ],
      "metadata": {
        "id": "4OIGBT7UOWhO"
      },
      "execution_count": null,
      "outputs": []
    },
    {
      "cell_type": "code",
      "source": [
        "sum_purchases = [316, 493, 367, 153, 224, 121, 322, 450, 196, 397, 281,\n",
        "                 239, 484, 124, 223, 448, 432, 255, 4310, 3524]\n",
        "\n",
        "visits = [6, 2, 10, 3, 9, 9, 2, 3, 6, 6, 10, 2, 5, 10, 3, 5, 4, 7, 4, 2]\n",
        "\n",
        "mean_purchases = sum(sum_purchases) / len(sum_purchases)\n",
        "mean_visits = sum(visits) / len(visits)\n",
        "\n",
        "diff_purchases = [x - mean_purchases for x in sum_purchases]\n",
        "diff_visits = [y - mean_visits for y in visits]\n",
        "\n",
        "numerator = sum(dx * dy for dx, dy in zip(diff_purchases, diff_visits))\n",
        "\n",
        "std_purchases = (sum(dx ** 2 for dx in diff_purchases) / len(sum_purchases)) ** 0.5\n",
        "std_visits = (sum(dy ** 2 for dy in diff_visits) / len(visits)) ** 0.5\n",
        "denominator = std_purchases * std_visits\n",
        "\n",
        "pearson_corr_manual = numerator / denominator\n",
        "\n",
        "print(pearson_corr_manual)"
      ],
      "metadata": {
        "id": "YLNF7VbeT97Q",
        "colab": {
          "base_uri": "https://localhost:8080/"
        },
        "outputId": "6a0b1aed-400f-49c2-8624-59ff550293b4"
      },
      "execution_count": 1,
      "outputs": [
        {
          "output_type": "stream",
          "name": "stdout",
          "text": [
            "-6.053168937533291\n"
          ]
        }
      ]
    },
    {
      "cell_type": "markdown",
      "source": [
        "**6.2**"
      ],
      "metadata": {
        "id": "kAy94CnNOiwE"
      }
    },
    {
      "cell_type": "code",
      "source": [
        "import numpy as np\n",
        "\n",
        "sum_purchases = np.array([316, 493, 367, 153, 224, 121, 322, 450, 196, 397, 281,\n",
        "                          239, 484, 124, 223, 448, 432, 255, 4310, 3524])\n",
        "\n",
        "visits = np.array([6, 2, 10, 3, 9, 9, 2, 3, 6, 6, 10, 2, 5, 10, 3, 5, 4, 7, 4, 2])\n",
        "pearson_corr_numpy = np.corrcoef(sum_purchases, visits)[0, 1]\n",
        "\n",
        "print(pearson_corr_numpy)"
      ],
      "metadata": {
        "colab": {
          "base_uri": "https://localhost:8080/"
        },
        "id": "tPhipd2eOkHV",
        "outputId": "3a49ae94-b9d1-4560-eea6-5ececa8289fb"
      },
      "execution_count": 2,
      "outputs": [
        {
          "output_type": "stream",
          "name": "stdout",
          "text": [
            "-0.3026584468766646\n"
          ]
        }
      ]
    },
    {
      "cell_type": "code",
      "source": [
        "import matplotlib.pyplot as plt\n",
        "\n",
        "plt.scatter(sum_purchases, visits)\n",
        "plt.title('Scatter Plot of Purchases vs. Visits')\n",
        "plt.xlabel('Sum of Purchases')\n",
        "plt.ylabel('Number of Visits');"
      ],
      "metadata": {
        "colab": {
          "base_uri": "https://localhost:8080/",
          "height": 472
        },
        "id": "gaeoGA-5Prr1",
        "outputId": "0c910a7f-0e96-449a-881d-1efa453b3c8d"
      },
      "execution_count": null,
      "outputs": [
        {
          "output_type": "display_data",
          "data": {
            "text/plain": [
              "<Figure size 640x480 with 1 Axes>"
            ],
            "image/png": "[encoded data removed]"
          },
          "metadata": {}
        }
      ]
    },
    {
      "cell_type": "code",
      "source": [
        "import matplotlib.pyplot as plt\n",
        "\n",
        "plt.scatter(visits, sum_purchases, color='blue', alpha=0.7)\n",
        "plt.title(\"Графік розсіювання: Кількість відвідувань vs Сума покупок\")\n",
        "plt.xlabel(\"Кількість відвідувань\")\n",
        "plt.ylabel(\"Сума покупок\")\n",
        "plt.grid()\n",
        "plt.show()"
      ],
      "metadata": {
        "colab": {
          "base_uri": "https://localhost:8080/",
          "height": 472
        },
        "id": "uY_wu_ISPcNE",
        "outputId": "54bb6e62-37c3-4879-b30c-2b7744902dc3"
      },
      "execution_count": 3,
      "outputs": [
        {
          "output_type": "display_data",
          "data": {
            "text/plain": [
              "<Figure size 640x480 with 1 Axes>"
            ],
            "image/png": "[encoded data removed]"
          },
          "metadata": {}
        }
      ]
    },
    {
      "cell_type": "markdown",
      "source": [
        "**Завдання 7**. В попередньому завданні ми помітили, що викиди нам заважають отримати \"правдиве\" значення кореляції. Давайте вилучимо записи, які відповідають значенням з викидами в сумі покупок і обчисліть коеф. кореляції. Для цього поставте `threshold`, який дорінює середньому значенню + 2 стандартних вдіхилля суми покупок і всі значення, які більше за нього, будемо вважати викидами (є і інші правила для визначення викидів - з ним и познайомимось пізніше).\n",
        "\n",
        "Вилучіть значення з обох масивів і обчисліть коеф. кореляції Пірсона з допомогою `numpy` для кількості візитів і суми покупок без записів-викидів. Виведіть результат на екран, побудуйте діаграму розсіювання і проаналізуйте результат: що можемо сказати про залежність в даних?"
      ],
      "metadata": {
        "id": "4pEg0KzSQ6KA"
      }
    },
    {
      "cell_type": "code",
      "source": [
        "import numpy as np\n",
        "import matplotlib.pyplot as plt\n",
        "\n",
        "sum_purchases = np.array([316, 493, 367, 153, 224, 121, 322, 450, 196, 397, 281,\n",
        "                          239, 484, 124, 223, 448, 432, 255, 4310, 3524])\n",
        "visits = np.array([6, 2, 10, 3, 9, 9, 2, 3, 6, 6, 10, 2, 5, 10, 3, 5, 4, 7, 4, 2])\n",
        "\n",
        "mean_purchases = np.mean(sum_purchases)\n",
        "std_purchases = np.std(sum_purchases)\n",
        "\n",
        "threshold = mean_purchases + 2 * std_purchases\n",
        "\n",
        "filtered_indices = sum_purchases <= threshold\n",
        "filtered_purchases = sum_purchases[filtered_indices]\n",
        "filtered_visits = visits[filtered_indices]\n",
        "\n",
        "pearson_corr_filtered = np.corrcoef(filtered_purchases, filtered_visits)[0, 1]\n",
        "\n",
        "print(threshold)\n",
        "print(pearson_corr_filtered)"
      ],
      "metadata": {
        "id": "Yj3Yfaf7UBbc",
        "colab": {
          "base_uri": "https://localhost:8080/"
        },
        "outputId": "72426723-0289-43bc-de81-5a62121648a4"
      },
      "execution_count": 4,
      "outputs": [
        {
          "output_type": "stream",
          "name": "stdout",
          "text": [
            "2860.0885426108453\n",
            "-0.3685212078127798\n"
          ]
        }
      ]
    },
    {
      "cell_type": "code",
      "source": [
        "plt.scatter(filtered_visits, filtered_purchases, color='blue', alpha=0.7)\n",
        "plt.title(\"Графік розсіювання: Кількість відвідувань vs Сума покупок (без викидів)\")\n",
        "plt.xlabel(\"Кількість відвідувань\")\n",
        "plt.ylabel(\"Сума покупок\")\n",
        "plt.grid()\n",
        "plt.show()"
      ],
      "metadata": {
        "colab": {
          "base_uri": "https://localhost:8080/",
          "height": 472
        },
        "id": "9RrG3pszVLaD",
        "outputId": "a7f24172-336f-4f48-8b49-3b41cb67fad1"
      },
      "execution_count": 5,
      "outputs": [
        {
          "output_type": "display_data",
          "data": {
            "text/plain": [
              "<Figure size 640x480 with 1 Axes>"
            ],
            "image/png": "[encoded data removed]"
          },
          "metadata": {}
        }
      ]
    }
  ]
}